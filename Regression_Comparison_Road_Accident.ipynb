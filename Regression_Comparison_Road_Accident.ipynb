{
  "nbformat": 4,
  "nbformat_minor": 0,
  "metadata": {
    "colab": {
      "provenance": []
    },
    "kernelspec": {
      "name": "python3",
      "display_name": "Python 3"
    },
    "language_info": {
      "name": "python"
    }
  },
  "cells": [
    {
      "cell_type": "markdown",
      "source": [
        "# **CASE STUDY**\n",
        "\n",
        "[link text](https://https://docs.google.com/document/d/1-y4tE5FYv81mI5-KKfpRdLkg3J4oskV6/edit)"
      ],
      "metadata": {
        "id": "CN3BDiF9OSPW"
      }
    },
    {
      "cell_type": "code",
      "source": [
        "# Import libaries\n",
        "\n",
        "import pandas as pd\n",
        "import numpy as np\n",
        "\n",
        "import matplotlib.pyplot as plt"
      ],
      "metadata": {
        "id": "p6HVG6KpObmy"
      },
      "execution_count": null,
      "outputs": []
    },
    {
      "cell_type": "markdown",
      "source": [
        "**Data Story**\n"
      ],
      "metadata": {
        "id": "AE7f_teIShsP"
      }
    },
    {
      "cell_type": "code",
      "source": [
        "# Insert data\n",
        "\n",
        "data = {\n",
        "    'Jumlah_Kecelakaan': [107,113,117,129,137,99,112,114,126,101,116,103],\n",
        "    'Faktor_Pengemudi': [56,63,60,61,77,54,56,56,60,65,56,59],\n",
        "    'Faktor_Jalan': [31,23,27,33,31,20,30,27,20,17,32,29],\n",
        "    'Faktor_Kendaraan': [12,15,14,9,18,11,10,11,13,9,21,14],\n",
        "    'Pertumbuhan_Kendaraan': [873,402,538,432,746,393,746,799,516,493,871,904]\n",
        "}\n",
        "df = pd.DataFrame(data)"
      ],
      "metadata": {
        "id": "xXj8pSzqO2BC"
      },
      "execution_count": null,
      "outputs": []
    },
    {
      "cell_type": "code",
      "source": [
        "df.head()"
      ],
      "metadata": {
        "colab": {
          "base_uri": "https://localhost:8080/",
          "height": 206
        },
        "id": "ECTClntKSPgM",
        "outputId": "72198ee5-6af7-41f3-8bcc-f84ec5c0da0f"
      },
      "execution_count": null,
      "outputs": [
        {
          "output_type": "execute_result",
          "data": {
            "text/plain": [
              "   Jumlah_Kecelakaan  Faktor_Pengemudi  Faktor_Jalan  Faktor_Kendaraan  \\\n",
              "0                107                56            31                12   \n",
              "1                113                63            23                15   \n",
              "2                117                60            27                14   \n",
              "3                129                61            33                 9   \n",
              "4                137                77            31                18   \n",
              "\n",
              "   Pertumbuhan_Kendaraan  \n",
              "0                    873  \n",
              "1                    402  \n",
              "2                    538  \n",
              "3                    432  \n",
              "4                    746  "
            ],
            "text/html": [
              "\n",
              "  <div id=\"df-9f2ae8af-de6b-4d08-98f3-c3e91e65fda3\" class=\"colab-df-container\">\n",
              "    <div>\n",
              "<style scoped>\n",
              "    .dataframe tbody tr th:only-of-type {\n",
              "        vertical-align: middle;\n",
              "    }\n",
              "\n",
              "    .dataframe tbody tr th {\n",
              "        vertical-align: top;\n",
              "    }\n",
              "\n",
              "    .dataframe thead th {\n",
              "        text-align: right;\n",
              "    }\n",
              "</style>\n",
              "<table border=\"1\" class=\"dataframe\">\n",
              "  <thead>\n",
              "    <tr style=\"text-align: right;\">\n",
              "      <th></th>\n",
              "      <th>Jumlah_Kecelakaan</th>\n",
              "      <th>Faktor_Pengemudi</th>\n",
              "      <th>Faktor_Jalan</th>\n",
              "      <th>Faktor_Kendaraan</th>\n",
              "      <th>Pertumbuhan_Kendaraan</th>\n",
              "    </tr>\n",
              "  </thead>\n",
              "  <tbody>\n",
              "    <tr>\n",
              "      <th>0</th>\n",
              "      <td>107</td>\n",
              "      <td>56</td>\n",
              "      <td>31</td>\n",
              "      <td>12</td>\n",
              "      <td>873</td>\n",
              "    </tr>\n",
              "    <tr>\n",
              "      <th>1</th>\n",
              "      <td>113</td>\n",
              "      <td>63</td>\n",
              "      <td>23</td>\n",
              "      <td>15</td>\n",
              "      <td>402</td>\n",
              "    </tr>\n",
              "    <tr>\n",
              "      <th>2</th>\n",
              "      <td>117</td>\n",
              "      <td>60</td>\n",
              "      <td>27</td>\n",
              "      <td>14</td>\n",
              "      <td>538</td>\n",
              "    </tr>\n",
              "    <tr>\n",
              "      <th>3</th>\n",
              "      <td>129</td>\n",
              "      <td>61</td>\n",
              "      <td>33</td>\n",
              "      <td>9</td>\n",
              "      <td>432</td>\n",
              "    </tr>\n",
              "    <tr>\n",
              "      <th>4</th>\n",
              "      <td>137</td>\n",
              "      <td>77</td>\n",
              "      <td>31</td>\n",
              "      <td>18</td>\n",
              "      <td>746</td>\n",
              "    </tr>\n",
              "  </tbody>\n",
              "</table>\n",
              "</div>\n",
              "    <div class=\"colab-df-buttons\">\n",
              "\n",
              "  <div class=\"colab-df-container\">\n",
              "    <button class=\"colab-df-convert\" onclick=\"convertToInteractive('df-9f2ae8af-de6b-4d08-98f3-c3e91e65fda3')\"\n",
              "            title=\"Convert this dataframe to an interactive table.\"\n",
              "            style=\"display:none;\">\n",
              "\n",
              "  <svg xmlns=\"http://www.w3.org/2000/svg\" height=\"24px\" viewBox=\"0 -960 960 960\">\n",
              "    <path d=\"M120-120v-720h720v720H120Zm60-500h600v-160H180v160Zm220 220h160v-160H400v160Zm0 220h160v-160H400v160ZM180-400h160v-160H180v160Zm440 0h160v-160H620v160ZM180-180h160v-160H180v160Zm440 0h160v-160H620v160Z\"/>\n",
              "  </svg>\n",
              "    </button>\n",
              "\n",
              "  <style>\n",
              "    .colab-df-container {\n",
              "      display:flex;\n",
              "      gap: 12px;\n",
              "    }\n",
              "\n",
              "    .colab-df-convert {\n",
              "      background-color: #E8F0FE;\n",
              "      border: none;\n",
              "      border-radius: 50%;\n",
              "      cursor: pointer;\n",
              "      display: none;\n",
              "      fill: #1967D2;\n",
              "      height: 32px;\n",
              "      padding: 0 0 0 0;\n",
              "      width: 32px;\n",
              "    }\n",
              "\n",
              "    .colab-df-convert:hover {\n",
              "      background-color: #E2EBFA;\n",
              "      box-shadow: 0px 1px 2px rgba(60, 64, 67, 0.3), 0px 1px 3px 1px rgba(60, 64, 67, 0.15);\n",
              "      fill: #174EA6;\n",
              "    }\n",
              "\n",
              "    .colab-df-buttons div {\n",
              "      margin-bottom: 4px;\n",
              "    }\n",
              "\n",
              "    [theme=dark] .colab-df-convert {\n",
              "      background-color: #3B4455;\n",
              "      fill: #D2E3FC;\n",
              "    }\n",
              "\n",
              "    [theme=dark] .colab-df-convert:hover {\n",
              "      background-color: #434B5C;\n",
              "      box-shadow: 0px 1px 3px 1px rgba(0, 0, 0, 0.15);\n",
              "      filter: drop-shadow(0px 1px 2px rgba(0, 0, 0, 0.3));\n",
              "      fill: #FFFFFF;\n",
              "    }\n",
              "  </style>\n",
              "\n",
              "    <script>\n",
              "      const buttonEl =\n",
              "        document.querySelector('#df-9f2ae8af-de6b-4d08-98f3-c3e91e65fda3 button.colab-df-convert');\n",
              "      buttonEl.style.display =\n",
              "        google.colab.kernel.accessAllowed ? 'block' : 'none';\n",
              "\n",
              "      async function convertToInteractive(key) {\n",
              "        const element = document.querySelector('#df-9f2ae8af-de6b-4d08-98f3-c3e91e65fda3');\n",
              "        const dataTable =\n",
              "          await google.colab.kernel.invokeFunction('convertToInteractive',\n",
              "                                                    [key], {});\n",
              "        if (!dataTable) return;\n",
              "\n",
              "        const docLinkHtml = 'Like what you see? Visit the ' +\n",
              "          '<a target=\"_blank\" href=https://colab.research.google.com/notebooks/data_table.ipynb>data table notebook</a>'\n",
              "          + ' to learn more about interactive tables.';\n",
              "        element.innerHTML = '';\n",
              "        dataTable['output_type'] = 'display_data';\n",
              "        await google.colab.output.renderOutput(dataTable, element);\n",
              "        const docLink = document.createElement('div');\n",
              "        docLink.innerHTML = docLinkHtml;\n",
              "        element.appendChild(docLink);\n",
              "      }\n",
              "    </script>\n",
              "  </div>\n",
              "\n",
              "\n",
              "<div id=\"df-ec696cc0-d405-4c59-bd0a-3d13cf70fd34\">\n",
              "  <button class=\"colab-df-quickchart\" onclick=\"quickchart('df-ec696cc0-d405-4c59-bd0a-3d13cf70fd34')\"\n",
              "            title=\"Suggest charts\"\n",
              "            style=\"display:none;\">\n",
              "\n",
              "<svg xmlns=\"http://www.w3.org/2000/svg\" height=\"24px\"viewBox=\"0 0 24 24\"\n",
              "     width=\"24px\">\n",
              "    <g>\n",
              "        <path d=\"M19 3H5c-1.1 0-2 .9-2 2v14c0 1.1.9 2 2 2h14c1.1 0 2-.9 2-2V5c0-1.1-.9-2-2-2zM9 17H7v-7h2v7zm4 0h-2V7h2v10zm4 0h-2v-4h2v4z\"/>\n",
              "    </g>\n",
              "</svg>\n",
              "  </button>\n",
              "\n",
              "<style>\n",
              "  .colab-df-quickchart {\n",
              "      --bg-color: #E8F0FE;\n",
              "      --fill-color: #1967D2;\n",
              "      --hover-bg-color: #E2EBFA;\n",
              "      --hover-fill-color: #174EA6;\n",
              "      --disabled-fill-color: #AAA;\n",
              "      --disabled-bg-color: #DDD;\n",
              "  }\n",
              "\n",
              "  [theme=dark] .colab-df-quickchart {\n",
              "      --bg-color: #3B4455;\n",
              "      --fill-color: #D2E3FC;\n",
              "      --hover-bg-color: #434B5C;\n",
              "      --hover-fill-color: #FFFFFF;\n",
              "      --disabled-bg-color: #3B4455;\n",
              "      --disabled-fill-color: #666;\n",
              "  }\n",
              "\n",
              "  .colab-df-quickchart {\n",
              "    background-color: var(--bg-color);\n",
              "    border: none;\n",
              "    border-radius: 50%;\n",
              "    cursor: pointer;\n",
              "    display: none;\n",
              "    fill: var(--fill-color);\n",
              "    height: 32px;\n",
              "    padding: 0;\n",
              "    width: 32px;\n",
              "  }\n",
              "\n",
              "  .colab-df-quickchart:hover {\n",
              "    background-color: var(--hover-bg-color);\n",
              "    box-shadow: 0 1px 2px rgba(60, 64, 67, 0.3), 0 1px 3px 1px rgba(60, 64, 67, 0.15);\n",
              "    fill: var(--button-hover-fill-color);\n",
              "  }\n",
              "\n",
              "  .colab-df-quickchart-complete:disabled,\n",
              "  .colab-df-quickchart-complete:disabled:hover {\n",
              "    background-color: var(--disabled-bg-color);\n",
              "    fill: var(--disabled-fill-color);\n",
              "    box-shadow: none;\n",
              "  }\n",
              "\n",
              "  .colab-df-spinner {\n",
              "    border: 2px solid var(--fill-color);\n",
              "    border-color: transparent;\n",
              "    border-bottom-color: var(--fill-color);\n",
              "    animation:\n",
              "      spin 1s steps(1) infinite;\n",
              "  }\n",
              "\n",
              "  @keyframes spin {\n",
              "    0% {\n",
              "      border-color: transparent;\n",
              "      border-bottom-color: var(--fill-color);\n",
              "      border-left-color: var(--fill-color);\n",
              "    }\n",
              "    20% {\n",
              "      border-color: transparent;\n",
              "      border-left-color: var(--fill-color);\n",
              "      border-top-color: var(--fill-color);\n",
              "    }\n",
              "    30% {\n",
              "      border-color: transparent;\n",
              "      border-left-color: var(--fill-color);\n",
              "      border-top-color: var(--fill-color);\n",
              "      border-right-color: var(--fill-color);\n",
              "    }\n",
              "    40% {\n",
              "      border-color: transparent;\n",
              "      border-right-color: var(--fill-color);\n",
              "      border-top-color: var(--fill-color);\n",
              "    }\n",
              "    60% {\n",
              "      border-color: transparent;\n",
              "      border-right-color: var(--fill-color);\n",
              "    }\n",
              "    80% {\n",
              "      border-color: transparent;\n",
              "      border-right-color: var(--fill-color);\n",
              "      border-bottom-color: var(--fill-color);\n",
              "    }\n",
              "    90% {\n",
              "      border-color: transparent;\n",
              "      border-bottom-color: var(--fill-color);\n",
              "    }\n",
              "  }\n",
              "</style>\n",
              "\n",
              "  <script>\n",
              "    async function quickchart(key) {\n",
              "      const quickchartButtonEl =\n",
              "        document.querySelector('#' + key + ' button');\n",
              "      quickchartButtonEl.disabled = true;  // To prevent multiple clicks.\n",
              "      quickchartButtonEl.classList.add('colab-df-spinner');\n",
              "      try {\n",
              "        const charts = await google.colab.kernel.invokeFunction(\n",
              "            'suggestCharts', [key], {});\n",
              "      } catch (error) {\n",
              "        console.error('Error during call to suggestCharts:', error);\n",
              "      }\n",
              "      quickchartButtonEl.classList.remove('colab-df-spinner');\n",
              "      quickchartButtonEl.classList.add('colab-df-quickchart-complete');\n",
              "    }\n",
              "    (() => {\n",
              "      let quickchartButtonEl =\n",
              "        document.querySelector('#df-ec696cc0-d405-4c59-bd0a-3d13cf70fd34 button');\n",
              "      quickchartButtonEl.style.display =\n",
              "        google.colab.kernel.accessAllowed ? 'block' : 'none';\n",
              "    })();\n",
              "  </script>\n",
              "</div>\n",
              "\n",
              "    </div>\n",
              "  </div>\n"
            ],
            "application/vnd.google.colaboratory.intrinsic+json": {
              "type": "dataframe",
              "variable_name": "df",
              "summary": "{\n  \"name\": \"df\",\n  \"rows\": 12,\n  \"fields\": [\n    {\n      \"column\": \"Jumlah_Kecelakaan\",\n      \"properties\": {\n        \"dtype\": \"number\",\n        \"std\": 11,\n        \"min\": 99,\n        \"max\": 137,\n        \"num_unique_values\": 12,\n        \"samples\": [\n          116,\n          101,\n          107\n        ],\n        \"semantic_type\": \"\",\n        \"description\": \"\"\n      }\n    },\n    {\n      \"column\": \"Faktor_Pengemudi\",\n      \"properties\": {\n        \"dtype\": \"number\",\n        \"std\": 6,\n        \"min\": 54,\n        \"max\": 77,\n        \"num_unique_values\": 8,\n        \"samples\": [\n          63,\n          54,\n          56\n        ],\n        \"semantic_type\": \"\",\n        \"description\": \"\"\n      }\n    },\n    {\n      \"column\": \"Faktor_Jalan\",\n      \"properties\": {\n        \"dtype\": \"number\",\n        \"std\": 5,\n        \"min\": 17,\n        \"max\": 33,\n        \"num_unique_values\": 9,\n        \"samples\": [\n          32,\n          23,\n          30\n        ],\n        \"semantic_type\": \"\",\n        \"description\": \"\"\n      }\n    },\n    {\n      \"column\": \"Faktor_Kendaraan\",\n      \"properties\": {\n        \"dtype\": \"number\",\n        \"std\": 3,\n        \"min\": 9,\n        \"max\": 21,\n        \"num_unique_values\": 9,\n        \"samples\": [\n          13,\n          15,\n          11\n        ],\n        \"semantic_type\": \"\",\n        \"description\": \"\"\n      }\n    },\n    {\n      \"column\": \"Pertumbuhan_Kendaraan\",\n      \"properties\": {\n        \"dtype\": \"number\",\n        \"std\": 198,\n        \"min\": 393,\n        \"max\": 904,\n        \"num_unique_values\": 11,\n        \"samples\": [\n          393,\n          873,\n          871\n        ],\n        \"semantic_type\": \"\",\n        \"description\": \"\"\n      }\n    }\n  ]\n}"
            }
          },
          "metadata": {},
          "execution_count": 18
        }
      ]
    },
    {
      "cell_type": "code",
      "source": [
        "df.dtypes"
      ],
      "metadata": {
        "colab": {
          "base_uri": "https://localhost:8080/"
        },
        "id": "XmtfFwQVS4cC",
        "outputId": "2406c3b0-8586-49c4-edf1-20360e917dc8"
      },
      "execution_count": null,
      "outputs": [
        {
          "output_type": "execute_result",
          "data": {
            "text/plain": [
              "Jumlah_Kecelakaan        int64\n",
              "Faktor_Pengemudi         int64\n",
              "Faktor_Jalan             int64\n",
              "Faktor_Kendaraan         int64\n",
              "Pertumbuhan_Kendaraan    int64\n",
              "dtype: object"
            ]
          },
          "metadata": {},
          "execution_count": 11
        }
      ]
    },
    {
      "cell_type": "markdown",
      "source": [
        "**Question**\n",
        "1. Which factors, impact the most to road accident?\n",
        "2. The growing vehicles owner, is it impacted the accident as well?"
      ],
      "metadata": {
        "id": "1dzfA3YpQTry"
      }
    },
    {
      "cell_type": "code",
      "source": [
        "# Sizing\n",
        "plt.figure(figsize=(10, 6))"
      ],
      "metadata": {
        "colab": {
          "base_uri": "https://localhost:8080/",
          "height": 52
        },
        "id": "millvi5xR91a",
        "outputId": "26bb0325-904d-40ce-f428-124ef50f9481"
      },
      "execution_count": null,
      "outputs": [
        {
          "output_type": "execute_result",
          "data": {
            "text/plain": [
              "<Figure size 1000x600 with 0 Axes>"
            ]
          },
          "metadata": {},
          "execution_count": 19
        },
        {
          "output_type": "display_data",
          "data": {
            "text/plain": [
              "<Figure size 1000x600 with 0 Axes>"
            ]
          },
          "metadata": {}
        }
      ]
    },
    {
      "cell_type": "code",
      "source": [
        "# Scatter Ploting\n",
        "\n",
        "plt.scatter(df['Jumlah_Kecelakaan'], df['Faktor_Pengemudi'], color='blue', label='Faktor Pengemudi')\n",
        "plt.scatter(df['Jumlah_Kecelakaan'], df['Faktor_Jalan'], color='green', label='Faktor Jalan')\n",
        "plt.scatter(df['Jumlah_Kecelakaan'], df['Faktor_Kendaraan'], color='red', label='Faktor Kendaraan')\n",
        "\n",
        "plt.title('Jumlah Kecelakaan vs Factors')\n",
        "plt.legend()\n",
        "plt.show()"
      ],
      "metadata": {
        "colab": {
          "base_uri": "https://localhost:8080/",
          "height": 452
        },
        "id": "vPfmlCqfTz9e",
        "outputId": "8afa48ab-617d-41d7-cc0f-f7704ca46d84"
      },
      "execution_count": null,
      "outputs": [
        {
          "output_type": "display_data",
          "data": {
            "text/plain": [
              "<Figure size 640x480 with 1 Axes>"
            ],
            "image/png": "[encoded data removed]"
          },
          "metadata": {}
        }
      ]
    },
    {
      "cell_type": "code",
      "source": [
        "# Scatter Ploting 2\n",
        "\n",
        "plt.scatter(df['Jumlah_Kecelakaan'], df['Pertumbuhan_Kendaraan'], color='red', label='Pertumbuhan Kendaraan')\n",
        "\n",
        "plt.title('Jumlah Kecelakaan vs Pertumbuhan Kendaraan')\n",
        "plt.legend()\n",
        "plt.show()"
      ],
      "metadata": {
        "colab": {
          "base_uri": "https://localhost:8080/",
          "height": 452
        },
        "id": "KajlwAxMWmI0",
        "outputId": "0e097a33-e251-4056-dceb-433f3efd711d"
      },
      "execution_count": null,
      "outputs": [
        {
          "output_type": "display_data",
          "data": {
            "text/plain": [
              "<Figure size 640x480 with 1 Axes>"
            ],
            "image/png": "[encoded data removed]"
          },
          "metadata": {}
        }
      ]
    },
    {
      "cell_type": "code",
      "source": [
        "# Import sklearn\n",
        "\n",
        "from sklearn.linear_model import LinearRegression\n",
        "from sklearn.metrics import mean_squared_error, r2_score"
      ],
      "metadata": {
        "id": "lkWo4i1nZA_1"
      },
      "execution_count": null,
      "outputs": []
    },
    {
      "cell_type": "code",
      "source": [
        "# Model Regression and Comparing\n",
        "\n",
        "def linear_regression_model_2(x, y):\n",
        "    x_reshaped = np.array(x).reshape(-1, 1)\n",
        "    y_reshaped = np.array(y).reshape(-1, 1)\n",
        "\n",
        "    # Linear Regression\n",
        "    model = LinearRegression()\n",
        "    model.fit(x_reshaped, y_reshaped)\n",
        "    y_pred = model.predict(x_reshaped)\n",
        "\n",
        "    # Calculating metrics\n",
        "    mse = mean_squared_error(y_reshaped, y_pred)\n",
        "    r2 = r2_score(y_reshaped, y_pred)\n",
        "\n",
        "    return model.intercept_[0], model.coef_[0][0], mse, r2\n",
        "\n",
        "# Dictionary to store the results\n",
        "results = {\n",
        "    'Factor': [],\n",
        "    'Intercept': [],\n",
        "    'Coefficient': [],\n",
        "    'MSE': [],\n",
        "    'R2_Score': []\n",
        "}\n",
        "\n",
        "# Perform linear regression for each factor\n",
        "factors = ['Faktor_Pengemudi', 'Faktor_Jalan', 'Faktor_Kendaraan', 'Pertumbuhan_Kendaraan']\n",
        "for factor in factors:\n",
        "    intercept, coefficient, mse, r2 = linear_regression_model_2(df[factor], df['Jumlah_Kecelakaan'])\n",
        "    results['Factor'].append(factor)\n",
        "    results['Intercept'].append(intercept)\n",
        "    results['Coefficient'].append(coefficient)\n",
        "    results['MSE'].append(mse)\n",
        "    results['R2_Score'].append(r2)\n",
        "\n",
        "# Create a new DataFrame with the results\n",
        "results_df = pd.DataFrame(results)\n",
        "\n",
        "# Display the results\n",
        "print(results_df)"
      ],
      "metadata": {
        "colab": {
          "base_uri": "https://localhost:8080/"
        },
        "id": "6Mz8SGTdZE_8",
        "outputId": "4649f451-186e-4fe1-cc98-2bf30120649e"
      },
      "execution_count": null,
      "outputs": [
        {
          "output_type": "stream",
          "name": "stdout",
          "text": [
            "                  Factor   Intercept  Coefficient         MSE  R2_Score\n",
            "0       Faktor_Pengemudi   48.391868     1.097230   80.519937  0.345810\n",
            "1           Faktor_Jalan   89.981172     0.919456  100.633281  0.182397\n",
            "2       Faktor_Kendaraan  100.461185     1.073030  109.178647  0.112970\n",
            "3  Pertumbuhan_Kendaraan  115.869859    -0.002131  122.919316  0.001333\n"
          ]
        }
      ]
    },
    {
      "cell_type": "code",
      "source": [],
      "metadata": {
        "id": "lCSbZ0R4b6c4"
      },
      "execution_count": null,
      "outputs": []
    }
  ]
}